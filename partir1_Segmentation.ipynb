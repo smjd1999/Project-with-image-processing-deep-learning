{
 "cells": [
  {
   "cell_type": "code",
   "execution_count": 1,
   "id": "7f7846f1",
   "metadata": {},
   "outputs": [
    {
     "name": "stdout",
     "output_type": "stream",
     "text": [
      "Requirement already satisfied: tensorflow in c:\\users\\lenovo\\anaconda3\\lib\\site-packages (2.11.1)\n",
      "Requirement already satisfied: tensorflow-intel==2.11.1 in c:\\users\\lenovo\\anaconda3\\lib\\site-packages (from tensorflow) (2.11.1)\n",
      "Requirement already satisfied: keras<2.12,>=2.11.0 in c:\\users\\lenovo\\anaconda3\\lib\\site-packages (from tensorflow-intel==2.11.1->tensorflow) (2.11.0)\n",
      "Requirement already satisfied: numpy>=1.20 in c:\\users\\lenovo\\anaconda3\\lib\\site-packages (from tensorflow-intel==2.11.1->tensorflow) (1.21.5)\n",
      "Requirement already satisfied: typing-extensions>=3.6.6 in c:\\users\\lenovo\\anaconda3\\lib\\site-packages (from tensorflow-intel==2.11.1->tensorflow) (4.3.0)\n",
      "Requirement already satisfied: six>=1.12.0 in c:\\users\\lenovo\\anaconda3\\lib\\site-packages (from tensorflow-intel==2.11.1->tensorflow) (1.16.0)\n",
      "Requirement already satisfied: flatbuffers>=2.0 in c:\\users\\lenovo\\anaconda3\\lib\\site-packages (from tensorflow-intel==2.11.1->tensorflow) (23.3.3)\n",
      "Requirement already satisfied: tensorflow-estimator<2.12,>=2.11.0 in c:\\users\\lenovo\\anaconda3\\lib\\site-packages (from tensorflow-intel==2.11.1->tensorflow) (2.11.0)\n",
      "Requirement already satisfied: grpcio<2.0,>=1.24.3 in c:\\users\\lenovo\\anaconda3\\lib\\site-packages (from tensorflow-intel==2.11.1->tensorflow) (1.51.3)\n",
      "Requirement already satisfied: wrapt>=1.11.0 in c:\\users\\lenovo\\anaconda3\\lib\\site-packages (from tensorflow-intel==2.11.1->tensorflow) (1.14.1)\n",
      "Requirement already satisfied: libclang>=13.0.0 in c:\\users\\lenovo\\anaconda3\\lib\\site-packages (from tensorflow-intel==2.11.1->tensorflow) (15.0.6.1)\n",
      "Requirement already satisfied: setuptools in c:\\users\\lenovo\\anaconda3\\lib\\site-packages (from tensorflow-intel==2.11.1->tensorflow) (63.4.1)\n",
      "Requirement already satisfied: termcolor>=1.1.0 in c:\\users\\lenovo\\anaconda3\\lib\\site-packages (from tensorflow-intel==2.11.1->tensorflow) (2.2.0)\n",
      "Requirement already satisfied: packaging in c:\\users\\lenovo\\anaconda3\\lib\\site-packages (from tensorflow-intel==2.11.1->tensorflow) (21.3)\n",
      "Requirement already satisfied: google-pasta>=0.1.1 in c:\\users\\lenovo\\anaconda3\\lib\\site-packages (from tensorflow-intel==2.11.1->tensorflow) (0.2.0)\n",
      "Requirement already satisfied: tensorboard<2.12,>=2.11 in c:\\users\\lenovo\\anaconda3\\lib\\site-packages (from tensorflow-intel==2.11.1->tensorflow) (2.11.2)\n",
      "Requirement already satisfied: tensorflow-io-gcs-filesystem>=0.23.1 in c:\\users\\lenovo\\anaconda3\\lib\\site-packages (from tensorflow-intel==2.11.1->tensorflow) (0.31.0)\n",
      "Requirement already satisfied: gast<=0.4.0,>=0.2.1 in c:\\users\\lenovo\\anaconda3\\lib\\site-packages (from tensorflow-intel==2.11.1->tensorflow) (0.4.0)\n",
      "Requirement already satisfied: opt-einsum>=2.3.2 in c:\\users\\lenovo\\anaconda3\\lib\\site-packages (from tensorflow-intel==2.11.1->tensorflow) (3.3.0)\n",
      "Requirement already satisfied: astunparse>=1.6.0 in c:\\users\\lenovo\\anaconda3\\lib\\site-packages (from tensorflow-intel==2.11.1->tensorflow) (1.6.3)\n",
      "Requirement already satisfied: protobuf<3.20,>=3.9.2 in c:\\users\\lenovo\\anaconda3\\lib\\site-packages (from tensorflow-intel==2.11.1->tensorflow) (3.19.6)\n",
      "Requirement already satisfied: h5py>=2.9.0 in c:\\users\\lenovo\\anaconda3\\lib\\site-packages (from tensorflow-intel==2.11.1->tensorflow) (3.7.0)\n",
      "Requirement already satisfied: absl-py>=1.0.0 in c:\\users\\lenovo\\anaconda3\\lib\\site-packages (from tensorflow-intel==2.11.1->tensorflow) (1.4.0)\n",
      "Requirement already satisfied: wheel<1.0,>=0.23.0 in c:\\users\\lenovo\\anaconda3\\lib\\site-packages (from astunparse>=1.6.0->tensorflow-intel==2.11.1->tensorflow) (0.37.1)\n",
      "Requirement already satisfied: google-auth-oauthlib<0.5,>=0.4.1 in c:\\users\\lenovo\\anaconda3\\lib\\site-packages (from tensorboard<2.12,>=2.11->tensorflow-intel==2.11.1->tensorflow) (0.4.6)\n",
      "Requirement already satisfied: tensorboard-plugin-wit>=1.6.0 in c:\\users\\lenovo\\anaconda3\\lib\\site-packages (from tensorboard<2.12,>=2.11->tensorflow-intel==2.11.1->tensorflow) (1.8.1)\n",
      "Requirement already satisfied: werkzeug>=1.0.1 in c:\\users\\lenovo\\anaconda3\\lib\\site-packages (from tensorboard<2.12,>=2.11->tensorflow-intel==2.11.1->tensorflow) (2.0.3)\n",
      "Requirement already satisfied: google-auth<3,>=1.6.3 in c:\\users\\lenovo\\anaconda3\\lib\\site-packages (from tensorboard<2.12,>=2.11->tensorflow-intel==2.11.1->tensorflow) (2.16.2)\n",
      "Requirement already satisfied: tensorboard-data-server<0.7.0,>=0.6.0 in c:\\users\\lenovo\\anaconda3\\lib\\site-packages (from tensorboard<2.12,>=2.11->tensorflow-intel==2.11.1->tensorflow) (0.6.1)\n",
      "Requirement already satisfied: markdown>=2.6.8 in c:\\users\\lenovo\\anaconda3\\lib\\site-packages (from tensorboard<2.12,>=2.11->tensorflow-intel==2.11.1->tensorflow) (3.3.4)\n",
      "Requirement already satisfied: requests<3,>=2.21.0 in c:\\users\\lenovo\\anaconda3\\lib\\site-packages (from tensorboard<2.12,>=2.11->tensorflow-intel==2.11.1->tensorflow) (2.28.1)\n",
      "Requirement already satisfied: pyparsing!=3.0.5,>=2.0.2 in c:\\users\\lenovo\\anaconda3\\lib\\site-packages (from packaging->tensorflow-intel==2.11.1->tensorflow) (3.0.9)\n",
      "Requirement already satisfied: pyasn1-modules>=0.2.1 in c:\\users\\lenovo\\anaconda3\\lib\\site-packages (from google-auth<3,>=1.6.3->tensorboard<2.12,>=2.11->tensorflow-intel==2.11.1->tensorflow) (0.2.8)\n",
      "Requirement already satisfied: rsa<5,>=3.1.4 in c:\\users\\lenovo\\anaconda3\\lib\\site-packages (from google-auth<3,>=1.6.3->tensorboard<2.12,>=2.11->tensorflow-intel==2.11.1->tensorflow) (4.9)\n",
      "Requirement already satisfied: cachetools<6.0,>=2.0.0 in c:\\users\\lenovo\\anaconda3\\lib\\site-packages (from google-auth<3,>=1.6.3->tensorboard<2.12,>=2.11->tensorflow-intel==2.11.1->tensorflow) (5.3.0)\n",
      "Requirement already satisfied: requests-oauthlib>=0.7.0 in c:\\users\\lenovo\\anaconda3\\lib\\site-packages (from google-auth-oauthlib<0.5,>=0.4.1->tensorboard<2.12,>=2.11->tensorflow-intel==2.11.1->tensorflow) (1.3.1)\n",
      "Requirement already satisfied: charset-normalizer<3,>=2 in c:\\users\\lenovo\\anaconda3\\lib\\site-packages (from requests<3,>=2.21.0->tensorboard<2.12,>=2.11->tensorflow-intel==2.11.1->tensorflow) (2.0.4)\n",
      "Requirement already satisfied: idna<4,>=2.5 in c:\\users\\lenovo\\anaconda3\\lib\\site-packages (from requests<3,>=2.21.0->tensorboard<2.12,>=2.11->tensorflow-intel==2.11.1->tensorflow) (3.3)\n",
      "Requirement already satisfied: urllib3<1.27,>=1.21.1 in c:\\users\\lenovo\\anaconda3\\lib\\site-packages (from requests<3,>=2.21.0->tensorboard<2.12,>=2.11->tensorflow-intel==2.11.1->tensorflow) (1.26.11)\n",
      "Requirement already satisfied: certifi>=2017.4.17 in c:\\users\\lenovo\\anaconda3\\lib\\site-packages (from requests<3,>=2.21.0->tensorboard<2.12,>=2.11->tensorflow-intel==2.11.1->tensorflow) (2022.9.14)\n",
      "Requirement already satisfied: pyasn1<0.5.0,>=0.4.6 in c:\\users\\lenovo\\anaconda3\\lib\\site-packages (from pyasn1-modules>=0.2.1->google-auth<3,>=1.6.3->tensorboard<2.12,>=2.11->tensorflow-intel==2.11.1->tensorflow) (0.4.8)\n",
      "Requirement already satisfied: oauthlib>=3.0.0 in c:\\users\\lenovo\\anaconda3\\lib\\site-packages (from requests-oauthlib>=0.7.0->google-auth-oauthlib<0.5,>=0.4.1->tensorboard<2.12,>=2.11->tensorflow-intel==2.11.1->tensorflow) (3.2.2)\n"
     ]
    },
    {
     "name": "stderr",
     "output_type": "stream",
     "text": [
      "WARNING: Ignoring invalid distribution -atplotlib (c:\\users\\lenovo\\anaconda3\\lib\\site-packages)\n",
      "WARNING: Ignoring invalid distribution -atplotlib (c:\\users\\lenovo\\anaconda3\\lib\\site-packages)\n",
      "WARNING: Ignoring invalid distribution -atplotlib (c:\\users\\lenovo\\anaconda3\\lib\\site-packages)\n",
      "WARNING: Ignoring invalid distribution -atplotlib (c:\\users\\lenovo\\anaconda3\\lib\\site-packages)\n",
      "WARNING: Ignoring invalid distribution -atplotlib (c:\\users\\lenovo\\anaconda3\\lib\\site-packages)\n",
      "WARNING: Ignoring invalid distribution -atplotlib (c:\\users\\lenovo\\anaconda3\\lib\\site-packages)\n"
     ]
    }
   ],
   "source": [
    "!pip install tensorflow\n",
    "import os\n",
    "import logging\n",
    "from imageio import imread\n",
    "import matplotlib\n",
    "from matplotlib import pyplot as plt\n",
    "\n",
    "import morphsnakes as ms"
   ]
  },
  {
   "cell_type": "code",
   "execution_count": 2,
   "id": "e954ca40",
   "metadata": {},
   "outputs": [],
   "source": [
    "import skimage.io as io\n",
    "import matplotlib.pyplot as plt\n",
    "import numpy as np\n",
    "from scipy.ndimage import convolve\n",
    "import os\n",
    "from scipy import ndimage\n",
    "import SimpleITK as sitk\n",
    "import sys\n"
   ]
  },
  {
   "cell_type": "markdown",
   "id": "1d8f1f2f",
   "metadata": {},
   "source": [
    "**3D data and manual mask**"
   ]
  },
  {
   "cell_type": "code",
   "execution_count": 63,
   "id": "36c6351c",
   "metadata": {},
   "outputs": [],
   "source": [
    "IMDIR = './debri_data/'\n",
    "segDir = './Segmentation.seg.nrrd'"
   ]
  },
  {
   "cell_type": "markdown",
   "id": "373693d4",
   "metadata": {},
   "source": [
    "**Reading IRM**\n"
   ]
  },
  {
   "cell_type": "code",
   "execution_count": 138,
   "id": "8ffecb56",
   "metadata": {},
   "outputs": [
    {
     "name": "stdout",
     "output_type": "stream",
     "text": [
      "Reading Dicom directory: ./debri_data/\n",
      "Image size: 256 256 36\n"
     ]
    }
   ],
   "source": [
    "print(\"Reading Dicom directory:\", IMDIR)\n",
    "reader = sitk.ImageSeriesReader()\n",
    "dicom_names = reader.GetGDCMSeriesFileNames(IMDIR)\n",
    "reader.SetFileNames(dicom_names)\n",
    "\n",
    "image = reader.Execute()\n",
    "\n",
    "taille = image.GetSize()\n",
    "print(\"Image size:\", taille[0], taille[1], taille[2])\n",
    "\n",
    "if \"SITK_NOSHOW\" not in os.environ:\n",
    "    sitk.Show(image, \"Dicom Series\")\n",
    "\n"
   ]
  },
  {
   "cell_type": "markdown",
   "id": "b1e69eea",
   "metadata": {},
   "source": [
    "**Preparing 3d data and manual mask**"
   ]
  },
  {
   "cell_type": "code",
   "execution_count": 157,
   "id": "30e52a98",
   "metadata": {},
   "outputs": [
    {
     "name": "stdout",
     "output_type": "stream",
     "text": [
      "manual mask shape:  (36, 256, 256)\n",
      "3D data shape:  (36, 256, 256)\n"
     ]
    }
   ],
   "source": [
    "##manual mask\n",
    "mask_sitk = sitk.ReadImage(segDir)\n",
    "mask = sitk.GetArrayFromImage(mask_sitk)\n",
    "mask_pred = mask[..., 0][0:36,0:256,0:256]\n",
    "mask_pred = mask_pred.astype('float32')\n",
    "mask_pred = np.where(mask_pred>0, 1.0, 0)\n",
    "mask_sitk = sitk.GetImageFromArray(mask_pred)\n",
    "\n",
    "print(\"manual mask shape: \",mask_pred.shape)\n",
    "\n",
    "##3d data\n",
    "V = sitk.GetArrayFromImage(image)\n",
    "V = V.astype('float32')\n",
    "print(\"3D data shape: \", np.shape(V))\n",
    "\n",
    "##visualize manual mask\n",
    "sitk.Show(mask_sitk, \"Dicom Series\")"
   ]
  },
  {
   "cell_type": "markdown",
   "id": "5c75ae9f",
   "metadata": {},
   "source": [
    "##  Sheet-like filter"
   ]
  },
  {
   "cell_type": "markdown",
   "id": "93b256be",
   "metadata": {},
   "source": [
    "**Function to compute the hessian eigenvalues**"
   ]
  },
  {
   "cell_type": "code",
   "execution_count": 126,
   "id": "6df57b21",
   "metadata": {},
   "outputs": [],
   "source": [
    "from warnings import warn\n",
    "import numpy as np\n",
    "from scipy import linalg\n",
    "from skimage.feature import hessian_matrix, hessian_matrix_eigvals\n",
    "\n",
    "def compute_hessian_eigenvalues(image, sigma, sorting='none',\n",
    "                                mode='constant', cval=0,\n",
    "                                use_gaussian_derivatives=False):\n",
    "\n",
    "    # Convert image to float\n",
    "    image = image.astype('float32')\n",
    "    # rescales integer images to [0, 1]\n",
    "    image /= 255.0\n",
    "\n",
    "    # Make nD hessian\n",
    "    hessian_matrix_kwargs = dict(\n",
    "        sigma=sigma, order='rc', mode=mode, cval=cval,\n",
    "    )\n",
    "    hessian_elements = hessian_matrix(image, **hessian_matrix_kwargs)\n",
    "    if not use_gaussian_derivatives:\n",
    "        # Kept to preserve legacy behavior\n",
    "        hessian_elements = [(sigma ** 2) * e for e in hessian_elements]\n",
    "\n",
    "    # Compute Hessian eigenvalues\n",
    "    hessian_eigenvalues = hessian_matrix_eigvals(hessian_elements)\n",
    "\n",
    "    if sorting == 'abs':\n",
    "\n",
    "        # Sort eigenvalues by absolute values in ascending order\n",
    "        hessian_eigenvalues = np.take_along_axis(\n",
    "            hessian_eigenvalues, abs(hessian_eigenvalues).argsort(0)[::-1], 0)\n",
    "\n",
    "    elif sorting == 'val':\n",
    "\n",
    "        # Sort eigenvalues by values in descending order\n",
    "        hessian_eigenvalues = np.sort(abs(hessian_eigenvalues), axis=0, reverse=True)\n",
    "\n",
    "    # Return Hessian eigenvalues\n",
    "    return hessian_eigenvalues"
   ]
  },
  {
   "cell_type": "markdown",
   "id": "402ba5d0",
   "metadata": {},
   "source": [
    "**Computing hessian matrix for our data**"
   ]
  },
  {
   "cell_type": "code",
   "execution_count": 158,
   "id": "4a907c7b",
   "metadata": {},
   "outputs": [
    {
     "name": "stdout",
     "output_type": "stream",
     "text": [
      "Hessian matrix's shape:  (256, 256, 36, 3)\n"
     ]
    }
   ],
   "source": [
    "sigma = 1.0\n",
    "H = compute_hessian_eigenvalues(V, sigma, sorting='abs',\n",
    "                                mode='constant', cval=0,\n",
    "                                use_gaussian_derivatives=False)\n",
    "\n",
    "print(\"Hessian matrix's shape: \",H.T.shape) ##each 'cube' contains an array of the 3 eigenvalues of the corresponding voxel"
   ]
  },
  {
   "cell_type": "markdown",
   "id": "4b3d4588",
   "metadata": {},
   "source": [
    "**Sheetnees filter**"
   ]
  },
  {
   "cell_type": "code",
   "execution_count": 129,
   "id": "17c84b3b",
   "metadata": {},
   "outputs": [],
   "source": [
    "def sheetness_filter(image, eigvals, alpha, thresh):\n",
    "\n",
    "    s = np.zeros(np.shape(image))\n",
    "    \n",
    "    lambda1 = np.maximum(eigvals[0], np.finfo(np.float32).eps)\n",
    "    lambda2, lambda3 = np.maximum(eigvals[1:], np.finfo(np.float32).eps)\n",
    "    \n",
    "    r_sheet = lambda2 / lambda1\n",
    "    r_noise = np.sqrt(lambda1**2 + lambda2**2 +lambda3**2) \n",
    "    beta = np.amax(r_noise)/20\n",
    "    \n",
    "    s = 1.0 - np.exp(-r_noise**2 / (2 * beta**2)) \n",
    "    s *= np.exp(-r_sheet**2 / (2 * alpha**2))\n",
    "    \n",
    "    lambda1 = eigvals[0]\n",
    "    s = np.where(lambda1==0, 0, s)\n",
    "    \n",
    "    mask = np.where(s>thresh, 1, 0)\n",
    "    im_masked = V * mask\n",
    "    return s, im_masked \n"
   ]
  },
  {
   "cell_type": "markdown",
   "id": "c6fe6d15",
   "metadata": {},
   "source": [
    "**Applying sheetness filter and generating the 1st mask**"
   ]
  },
  {
   "cell_type": "code",
   "execution_count": 159,
   "id": "60c63833",
   "metadata": {},
   "outputs": [],
   "source": [
    "import skimage\n",
    "from skimage.feature import canny\n",
    "from scipy import ndimage as ndi\n",
    "\n",
    "eigvals = H\n",
    "alpha = 0.5\n",
    "thresh = 0.55\n",
    "s, image_masked = sheetness_filter(V, eigvals, alpha, thresh)\n",
    "labeled_image, count = skimage.measure.label(image_masked,\n",
    "                                             connectivity=2, return_num=True)\n",
    "labeled_image =labeled_image.astype('float32')\n",
    "labeled_image = np.where(labeled_image>0, 1.0, 0)## the first mask (after filtering and thresholding)\n"
   ]
  },
  {
   "cell_type": "markdown",
   "id": "8d110927",
   "metadata": {},
   "source": [
    "**Morphological operations**"
   ]
  },
  {
   "cell_type": "code",
   "execution_count": 145,
   "id": "269435bc",
   "metadata": {},
   "outputs": [],
   "source": [
    "import cv2 as cv\n",
    "\n",
    "noyau = np.ones((3,3),np.uint8)\n",
    "\n",
    "labeled_image2 =cv.morphologyEx(labeled_image, cv.MORPH_GRADIENT, noyau)\n",
    "#labeled_image2 = cv.morphologyEx(labeled_image2, cv.MORPH_OPEN, noyau)\n",
    "labeled_image2 = cv.dilate(labeled_image2,noyau,iterations = 3)\n"
   ]
  },
  {
   "cell_type": "markdown",
   "id": "ca1da3c1",
   "metadata": {},
   "source": [
    "## Region growing algorithm "
   ]
  },
  {
   "cell_type": "code",
   "execution_count": 71,
   "id": "fb443532",
   "metadata": {},
   "outputs": [],
   "source": [
    "def visual_callback_3d(fig=None, plot_each=1):\n",
    "    \"\"\"\n",
    "    Returns a callback than can be passed as the argument `iter_callback`\n",
    "    of `morphological_geodesic_active_contour` and\n",
    "    `morphological_chan_vese` for visualizing the evolution\n",
    "    of the levelsets. Only works for 3D images.\n",
    "    Parameters\n",
    "    ----------\n",
    "    fig : matplotlib.figure.Figure\n",
    "        Figure where results will be drawn. If not given, a new figure\n",
    "        will be created.\n",
    "    plot_each : positive integer\n",
    "        The plot will be updated once every `plot_each` calls to the callback\n",
    "        function.\n",
    "    Returns\n",
    "    -------\n",
    "    callback : Python function\n",
    "        A function that receives a levelset and updates the current plot\n",
    "        accordingly. This can be passed as the `iter_callback` argument of\n",
    "        `morphological_geodesic_active_contour` and\n",
    "        `morphological_chan_vese`.\n",
    "    \"\"\"\n",
    "\n",
    "    from mpl_toolkits.mplot3d import Axes3D\n",
    "    # PyMCubes package is required for `visual_callback_3d`\n",
    "    try:\n",
    "        import mcubes\n",
    "    except ImportError:\n",
    "        raise ImportError(\"PyMCubes is required for 3D `visual_callback_3d`\")\n",
    "\n",
    "    # Prepare the visual environment.\n",
    "    if fig is None:\n",
    "        fig = plt.figure()\n",
    "    fig.clf()\n",
    "    ax = fig.add_subplot(111, projection='3d')\n",
    "    plt.pause(0.001)\n",
    "\n",
    "    counter = [-1]\n",
    "\n",
    "    def callback(levelset):\n",
    "\n",
    "        counter[0] += 1\n",
    "        if (counter[0] % plot_each) != 0:\n",
    "            return\n",
    "\n",
    "        if ax.collections:\n",
    "            del ax.collections[0]\n",
    "\n",
    "        coords, triangles = mcubes.marching_cubes(levelset, 0.5)\n",
    "        ax.plot_trisurf(coords[:, 0], coords[:, 1], coords[:, 2],\n",
    "                        triangles=triangles)\n",
    "        plt.pause(0.1)\n",
    "\n",
    "    return callback"
   ]
  },
  {
   "cell_type": "markdown",
   "id": "6a6df374",
   "metadata": {},
   "source": [
    "**Region growing algorithm**"
   ]
  },
  {
   "cell_type": "code",
   "execution_count": 152,
   "id": "b454ce11",
   "metadata": {},
   "outputs": [],
   "source": [
    "img = labeled_image2\n",
    "# Initialization of the level-set.\n",
    "init_ls = ms.circle_level_set(img.shape, (19, 10, 10), 150)\n",
    "\n",
    "# Morphological Chan-Vese (or ACWE)\n",
    "img = ms.morphological_chan_vese(img, iterations=200,\n",
    "                           init_level_set=init_ls,\n",
    "                           smoothing=1, lambda1=2, lambda2=1)\n",
    "\n",
    "img = img.astype('float32')\n",
    "im = sitk.GetImageFromArray(img)\n",
    "sitk.Show(im, \"Dicom Series\")\n"
   ]
  },
  {
   "cell_type": "code",
   "execution_count": 146,
   "id": "fd67da8a",
   "metadata": {},
   "outputs": [],
   "source": [
    "##first mask (sheetness-like filter)\n",
    "im = sitk.GetImageFromArray(image_masked)\n",
    "sitk.Show(im, \"Dicom Series\")\n",
    "\n",
    "##morphological operations applied\n",
    "im = sitk.GetImageFromArray(labeled_image2)\n",
    "sitk.Show(im, \"Dicom Series\")\n",
    "\n",
    "##Region growing algorithm applied (mask inversed later in the code)\n",
    "img = img.astype('float32')\n",
    "im = sitk.GetImageFromArray(img)\n",
    "sitk.Show(im, \"Dicom Series\")\n"
   ]
  },
  {
   "cell_type": "markdown",
   "id": "c65a4bed",
   "metadata": {},
   "source": [
    "**Evaluation**"
   ]
  },
  {
   "cell_type": "code",
   "execution_count": 150,
   "id": "0fb7317b",
   "metadata": {},
   "outputs": [],
   "source": [
    "def compute_dice_coefficient(mask_gt, mask_pred):\n",
    "    volume_sum = mask_gt.sum() + mask_pred.sum()\n",
    "    if volume_sum == 0:\n",
    "        return np.NaN\n",
    "\n",
    "    volume_intersect = (np.logical_and(mask_gt, mask_pred)).sum()\n",
    "\n",
    "    return 2 * volume_intersect / volume_sum"
   ]
  },
  {
   "cell_type": "code",
   "execution_count": 160,
   "id": "7adaa442",
   "metadata": {},
   "outputs": [
    {
     "name": "stdout",
     "output_type": "stream",
     "text": [
      "dice score before region growing algorithm 0.715735964247741\n"
     ]
    }
   ],
   "source": [
    "score = compute_dice_coefficient(labeled_image2,mask_pred)\n",
    "print(\"dice score before region growing algorithm\", score)"
   ]
  },
  {
   "cell_type": "code",
   "execution_count": 161,
   "id": "c3714770",
   "metadata": {},
   "outputs": [
    {
     "name": "stdout",
     "output_type": "stream",
     "text": [
      "dice score after region growing 0.8309131829179092\n"
     ]
    }
   ],
   "source": [
    "mask_pred2 = np.where(img>0, 0, 1) ##Final mask\n",
    "\n",
    "score = compute_dice_coefficient(labeled_image2,mask_pred2)\n",
    "print(\"dice score after region growing\", score)"
   ]
  },
  {
   "cell_type": "markdown",
   "id": "89757765",
   "metadata": {},
   "source": [
    "**Final mask visualization**"
   ]
  },
  {
   "cell_type": "code",
   "execution_count": null,
   "id": "c6d18ea5",
   "metadata": {},
   "outputs": [],
   "source": [
    "im = sitk.GetImageFromArray(mask_pred2)\n",
    "sitk.Show(im, \"Dicom Series\")"
   ]
  }
 ],
 "metadata": {
  "kernelspec": {
   "display_name": "Python 3 (ipykernel)",
   "language": "python",
   "name": "python3"
  },
  "language_info": {
   "codemirror_mode": {
    "name": "ipython",
    "version": 3
   },
   "file_extension": ".py",
   "mimetype": "text/x-python",
   "name": "python",
   "nbconvert_exporter": "python",
   "pygments_lexer": "ipython3",
   "version": "3.9.13"
  }
 },
 "nbformat": 4,
 "nbformat_minor": 5
}
